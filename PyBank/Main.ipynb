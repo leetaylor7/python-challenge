{
 "cells": [
  {
   "cell_type": "code",
   "execution_count": 2,
   "metadata": {},
   "outputs": [],
   "source": [
    "#This is the Banking Homework\n",
    "#Pulls dependents\n",
    "import os\n",
    "import csv\n",
    "\n",
    "#Path to collect data from the Resources folder\n",
    "csvpath = os.path.join('Resources', 'budget_data.csv')\n"
   ]
  },
  {
   "cell_type": "code",
   "execution_count": 24,
   "metadata": {},
   "outputs": [
    {
     "name": "stdout",
     "output_type": "stream",
     "text": [
      "There are 86\n",
      "Total profits are $38382578.0\n",
      "the average change is: -2315.1176470588234\n",
      "the max is 1926159.0\n",
      "the min is -2196167.0\n"
     ]
    }
   ],
   "source": [
    "#list to store data\n",
    "\n",
    "months = []\n",
    "profits = []\n",
    "change = []\n",
    "\n",
    "#opens the CSV\n",
    "with open(csvpath, newline='') as csvfile:    \n",
    "    #Populates the list\n",
    "    \n",
    "    csvreader = csv.reader(csvfile, delimiter=\",\")\n",
    "    csv_header = next(csvreader)\n",
    "    for row in csvreader:\n",
    "        #add month\n",
    "        months.append(row[0])\n",
    "        profits.append(float(row[1]))\n",
    "    \n",
    "    #Prints questions 1 and 2\n",
    "    print(f\"There are {len(months)}\")\n",
    "    print(f\"Total profits are ${sum(profits)}\")\n",
    "    \n",
    "    \n",
    "    #compiles list for questions 3 - 5\n",
    "    for i in range(1, len(profits)):\n",
    "        changes = profits[i] - profits[i - 1]\n",
    "        change.append(float(changes))\n",
    "    \n",
    "    #finds the average\n",
    "    average = sum(change)/len(change)\n",
    "    print(f\"the average change is: {average}\")\n",
    "    print(f\"the max is {max(change)}\")\n",
    "    print(f\"the min is {min(change)}\")\n",
    "    \n",
    "\n"
   ]
  },
  {
   "cell_type": "code",
   "execution_count": null,
   "metadata": {},
   "outputs": [],
   "source": []
  }
 ],
 "metadata": {
  "kernelspec": {
   "display_name": "Python 3",
   "language": "python",
   "name": "python3"
  },
  "language_info": {
   "codemirror_mode": {
    "name": "ipython",
    "version": 3
   },
   "file_extension": ".py",
   "mimetype": "text/x-python",
   "name": "python",
   "nbconvert_exporter": "python",
   "pygments_lexer": "ipython3",
   "version": "3.7.0"
  }
 },
 "nbformat": 4,
 "nbformat_minor": 2
}
